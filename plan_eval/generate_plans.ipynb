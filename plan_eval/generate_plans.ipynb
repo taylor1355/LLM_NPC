{
 "cells": [
  {
   "cell_type": "code",
   "execution_count": 9,
   "metadata": {},
   "outputs": [
    {
     "data": {
      "text/plain": [
       "True"
      ]
     },
     "execution_count": 9,
     "metadata": {},
     "output_type": "execute_result"
    }
   ],
   "source": [
    "from dotenv import load_dotenv\n",
    "load_dotenv() # take environment variables from .env"
   ]
  },
  {
   "cell_type": "code",
   "execution_count": 12,
   "metadata": {},
   "outputs": [],
   "source": [
    "import pandas as pd\n",
    "import openpyxl\n",
    "import openai\n",
    "import os\n",
    "\n",
    "openai.api_key = os.getenv(\"OPENAI_API_KEY\")"
   ]
  },
  {
   "cell_type": "code",
   "execution_count": 13,
   "metadata": {},
   "outputs": [],
   "source": [
    "def excel_to_df(file_path, sheet_name):\n",
    "    workbook = openpyxl.load_workbook(file_path, data_only=True)\n",
    "    sheet = workbook[sheet_name]\n",
    "    df = pd.DataFrame(sheet.values)\n",
    "    workbook.close()\n",
    "    return df"
   ]
  },
  {
   "cell_type": "code",
   "execution_count": 14,
   "metadata": {},
   "outputs": [
    {
     "data": {
      "text/html": [
       "<div>\n",
       "<style scoped>\n",
       "    .dataframe tbody tr th:only-of-type {\n",
       "        vertical-align: middle;\n",
       "    }\n",
       "\n",
       "    .dataframe tbody tr th {\n",
       "        vertical-align: top;\n",
       "    }\n",
       "\n",
       "    .dataframe thead th {\n",
       "        text-align: right;\n",
       "    }\n",
       "</style>\n",
       "<table border=\"1\" class=\"dataframe\">\n",
       "  <thead>\n",
       "    <tr style=\"text-align: right;\">\n",
       "      <th></th>\n",
       "      <th>0</th>\n",
       "      <th>1</th>\n",
       "      <th>2</th>\n",
       "      <th>3</th>\n",
       "    </tr>\n",
       "  </thead>\n",
       "  <tbody>\n",
       "    <tr>\n",
       "      <th>0</th>\n",
       "      <td>environment_id</td>\n",
       "      <td>difficulty</td>\n",
       "      <td>scenario</td>\n",
       "      <td>scenario_id</td>\n",
       "    </tr>\n",
       "    <tr>\n",
       "      <th>1</th>\n",
       "      <td>0</td>\n",
       "      <td>intermediate</td>\n",
       "      <td>Scenario Title: \"The Labyrinth of Lost Robots\"...</td>\n",
       "      <td>0</td>\n",
       "    </tr>\n",
       "    <tr>\n",
       "      <th>2</th>\n",
       "      <td>0</td>\n",
       "      <td>intermediate</td>\n",
       "      <td>Scenario Difficulty: Intermediate\\nScenario Ti...</td>\n",
       "      <td>1</td>\n",
       "    </tr>\n",
       "  </tbody>\n",
       "</table>\n",
       "</div>"
      ],
      "text/plain": [
       "                0             1  \\\n",
       "0  environment_id    difficulty   \n",
       "1               0  intermediate   \n",
       "2               0  intermediate   \n",
       "\n",
       "                                                   2            3  \n",
       "0                                           scenario  scenario_id  \n",
       "1  Scenario Title: \"The Labyrinth of Lost Robots\"...            0  \n",
       "2  Scenario Difficulty: Intermediate\\nScenario Ti...            1  "
      ]
     },
     "execution_count": 14,
     "metadata": {},
     "output_type": "execute_result"
    }
   ],
   "source": [
    "# TODO: move plan_data into the gold_data folder and just copy onto the c drive when you need to open it in excel\n",
    "excel_path = \"/mnt/c/Users/taylor/Desktop/plan_data.xlsx\"\n",
    "scenarios = excel_to_df(excel_path, \"scenarios\")\n",
    "scenarios"
   ]
  },
  {
   "cell_type": "code",
   "execution_count": 15,
   "metadata": {},
   "outputs": [
    {
     "data": {
      "text/html": [
       "<div>\n",
       "<style scoped>\n",
       "    .dataframe tbody tr th:only-of-type {\n",
       "        vertical-align: middle;\n",
       "    }\n",
       "\n",
       "    .dataframe tbody tr th {\n",
       "        vertical-align: top;\n",
       "    }\n",
       "\n",
       "    .dataframe thead th {\n",
       "        text-align: right;\n",
       "    }\n",
       "</style>\n",
       "<table border=\"1\" class=\"dataframe\">\n",
       "  <thead>\n",
       "    <tr style=\"text-align: right;\">\n",
       "      <th></th>\n",
       "      <th>0</th>\n",
       "      <th>1</th>\n",
       "      <th>2</th>\n",
       "      <th>3</th>\n",
       "      <th>4</th>\n",
       "      <th>5</th>\n",
       "      <th>6</th>\n",
       "      <th>7</th>\n",
       "      <th>8</th>\n",
       "      <th>9</th>\n",
       "      <th>10</th>\n",
       "      <th>11</th>\n",
       "      <th>12</th>\n",
       "      <th>13</th>\n",
       "      <th>14</th>\n",
       "      <th>15</th>\n",
       "      <th>16</th>\n",
       "      <th>17</th>\n",
       "      <th>18</th>\n",
       "    </tr>\n",
       "  </thead>\n",
       "  <tbody>\n",
       "    <tr>\n",
       "      <th>0</th>\n",
       "      <td>scenario_id</td>\n",
       "      <td>trajectory_id</td>\n",
       "      <td>good_plan</td>\n",
       "      <td>0</td>\n",
       "      <td>1</td>\n",
       "      <td>2</td>\n",
       "      <td>3</td>\n",
       "      <td>4</td>\n",
       "      <td>5</td>\n",
       "      <td>6</td>\n",
       "      <td>7</td>\n",
       "      <td>8</td>\n",
       "      <td>9</td>\n",
       "      <td>10</td>\n",
       "      <td>11</td>\n",
       "      <td>12</td>\n",
       "      <td>13</td>\n",
       "      <td>14</td>\n",
       "      <td>15</td>\n",
       "    </tr>\n",
       "    <tr>\n",
       "      <th>1</th>\n",
       "      <td>0</td>\n",
       "      <td>0</td>\n",
       "      <td>True</td>\n",
       "      <td>**Timestep: t=0**\\n**Current Detailed State:**...</td>\n",
       "      <td>**Timestep: t=1**\\n**Current Detailed State:**...</td>\n",
       "      <td>**Timestep: t=2**\\n**Current Detailed State:**...</td>\n",
       "      <td>**Timestep: t=3**\\n**Current Detailed State:**...</td>\n",
       "      <td>**Timestep: t=4**\\n**Current Detailed State:**...</td>\n",
       "      <td>**Timestep: t=5**\\n**Current Detailed State:**...</td>\n",
       "      <td>**Timestep: t=6**\\n**Current Detailed State:**...</td>\n",
       "      <td>**Timestep: t=7**\\n**Current Detailed State:**...</td>\n",
       "      <td>**Timestep: t=8**\\n**Current Detailed State:**...</td>\n",
       "      <td>**Timestep: t=9**\\n**Current Detailed State:**...</td>\n",
       "      <td>**Timestep: t=10**\\n**Current Detailed State:*...</td>\n",
       "      <td>**Timestep: t=11**\\n**Current Detailed State:*...</td>\n",
       "      <td>**Timestep: t=12**\\n**Current Detailed State:*...</td>\n",
       "      <td>**Timestep: t=13**\\n**Current Detailed State:*...</td>\n",
       "      <td>**Timestep: t=14**\\n**Current Detailed State:*...</td>\n",
       "      <td>**Timestep: t=15**\\n**Current Detailed State:*...</td>\n",
       "    </tr>\n",
       "    <tr>\n",
       "      <th>2</th>\n",
       "      <td>1</td>\n",
       "      <td>1</td>\n",
       "      <td>True</td>\n",
       "      <td>Timestep: 0\\nCurrent Detailed State: The agent...</td>\n",
       "      <td>Timestep: 1\\nCurrent Detailed State: The agent...</td>\n",
       "      <td>Timestep: 2\\nCurrent Detailed State: The agent...</td>\n",
       "      <td>Timestep: 3\\nCurrent Detailed State: The agent...</td>\n",
       "      <td>1. Timestep: 4\\n2. Current Detailed State: The...</td>\n",
       "      <td>1. Timestep: 5\\n2. Current Detailed State: The...</td>\n",
       "      <td>1. Timestep: 6\\n2. Current Detailed State: The...</td>\n",
       "      <td>1. Timestep: 7\\n2. Current Detailed State: The...</td>\n",
       "      <td>1. Timestep: 8\\n2. Current Detailed State: The...</td>\n",
       "      <td>1. Timestep: 9\\n2. Current Detailed State: The...</td>\n",
       "      <td>None</td>\n",
       "      <td>None</td>\n",
       "      <td>None</td>\n",
       "      <td>None</td>\n",
       "      <td>None</td>\n",
       "      <td>None</td>\n",
       "    </tr>\n",
       "  </tbody>\n",
       "</table>\n",
       "</div>"
      ],
      "text/plain": [
       "            0              1          2   \\\n",
       "0  scenario_id  trajectory_id  good_plan   \n",
       "1            0              0       True   \n",
       "2            1              1       True   \n",
       "\n",
       "                                                  3   \\\n",
       "0                                                  0   \n",
       "1  **Timestep: t=0**\\n**Current Detailed State:**...   \n",
       "2  Timestep: 0\\nCurrent Detailed State: The agent...   \n",
       "\n",
       "                                                  4   \\\n",
       "0                                                  1   \n",
       "1  **Timestep: t=1**\\n**Current Detailed State:**...   \n",
       "2  Timestep: 1\\nCurrent Detailed State: The agent...   \n",
       "\n",
       "                                                  5   \\\n",
       "0                                                  2   \n",
       "1  **Timestep: t=2**\\n**Current Detailed State:**...   \n",
       "2  Timestep: 2\\nCurrent Detailed State: The agent...   \n",
       "\n",
       "                                                  6   \\\n",
       "0                                                  3   \n",
       "1  **Timestep: t=3**\\n**Current Detailed State:**...   \n",
       "2  Timestep: 3\\nCurrent Detailed State: The agent...   \n",
       "\n",
       "                                                  7   \\\n",
       "0                                                  4   \n",
       "1  **Timestep: t=4**\\n**Current Detailed State:**...   \n",
       "2  1. Timestep: 4\\n2. Current Detailed State: The...   \n",
       "\n",
       "                                                  8   \\\n",
       "0                                                  5   \n",
       "1  **Timestep: t=5**\\n**Current Detailed State:**...   \n",
       "2  1. Timestep: 5\\n2. Current Detailed State: The...   \n",
       "\n",
       "                                                  9   \\\n",
       "0                                                  6   \n",
       "1  **Timestep: t=6**\\n**Current Detailed State:**...   \n",
       "2  1. Timestep: 6\\n2. Current Detailed State: The...   \n",
       "\n",
       "                                                  10  \\\n",
       "0                                                  7   \n",
       "1  **Timestep: t=7**\\n**Current Detailed State:**...   \n",
       "2  1. Timestep: 7\\n2. Current Detailed State: The...   \n",
       "\n",
       "                                                  11  \\\n",
       "0                                                  8   \n",
       "1  **Timestep: t=8**\\n**Current Detailed State:**...   \n",
       "2  1. Timestep: 8\\n2. Current Detailed State: The...   \n",
       "\n",
       "                                                  12  \\\n",
       "0                                                  9   \n",
       "1  **Timestep: t=9**\\n**Current Detailed State:**...   \n",
       "2  1. Timestep: 9\\n2. Current Detailed State: The...   \n",
       "\n",
       "                                                  13  \\\n",
       "0                                                 10   \n",
       "1  **Timestep: t=10**\\n**Current Detailed State:*...   \n",
       "2                                               None   \n",
       "\n",
       "                                                  14  \\\n",
       "0                                                 11   \n",
       "1  **Timestep: t=11**\\n**Current Detailed State:*...   \n",
       "2                                               None   \n",
       "\n",
       "                                                  15  \\\n",
       "0                                                 12   \n",
       "1  **Timestep: t=12**\\n**Current Detailed State:*...   \n",
       "2                                               None   \n",
       "\n",
       "                                                  16  \\\n",
       "0                                                 13   \n",
       "1  **Timestep: t=13**\\n**Current Detailed State:*...   \n",
       "2                                               None   \n",
       "\n",
       "                                                  17  \\\n",
       "0                                                 14   \n",
       "1  **Timestep: t=14**\\n**Current Detailed State:*...   \n",
       "2                                               None   \n",
       "\n",
       "                                                  18  \n",
       "0                                                 15  \n",
       "1  **Timestep: t=15**\\n**Current Detailed State:*...  \n",
       "2                                               None  "
      ]
     },
     "execution_count": 15,
     "metadata": {},
     "output_type": "execute_result"
    }
   ],
   "source": [
    "good_trajectories = excel_to_df(excel_path, \"good_trajectories\")\n",
    "good_trajectories"
   ]
  },
  {
   "cell_type": "code",
   "execution_count": 16,
   "metadata": {},
   "outputs": [
    {
     "data": {
      "text/html": [
       "<div>\n",
       "<style scoped>\n",
       "    .dataframe tbody tr th:only-of-type {\n",
       "        vertical-align: middle;\n",
       "    }\n",
       "\n",
       "    .dataframe tbody tr th {\n",
       "        vertical-align: top;\n",
       "    }\n",
       "\n",
       "    .dataframe thead th {\n",
       "        text-align: right;\n",
       "    }\n",
       "</style>\n",
       "<table border=\"1\" class=\"dataframe\">\n",
       "  <thead>\n",
       "    <tr style=\"text-align: right;\">\n",
       "      <th></th>\n",
       "      <th>flaw_name</th>\n",
       "      <th>flaw_instructions</th>\n",
       "    </tr>\n",
       "  </thead>\n",
       "  <tbody>\n",
       "    <tr>\n",
       "      <th>0</th>\n",
       "      <td>Non-Sequential Execution</td>\n",
       "      <td>Rearrange steps in an illogical order. E.g., '...</td>\n",
       "    </tr>\n",
       "    <tr>\n",
       "      <th>1</th>\n",
       "      <td>Vague Strategy</td>\n",
       "      <td>Create plans that lack details and specifics. ...</td>\n",
       "    </tr>\n",
       "    <tr>\n",
       "      <th>2</th>\n",
       "      <td>Off-Topic Thoughts</td>\n",
       "      <td>Introduce unrelated thoughts into the trajecto...</td>\n",
       "    </tr>\n",
       "    <tr>\n",
       "      <th>3</th>\n",
       "      <td>Looped Logic</td>\n",
       "      <td>Create a plan that continuously revisits the s...</td>\n",
       "    </tr>\n",
       "    <tr>\n",
       "      <th>4</th>\n",
       "      <td>Conflicting Actions</td>\n",
       "      <td>Present plans that contradict themselves. E.g....</td>\n",
       "    </tr>\n",
       "    <tr>\n",
       "      <th>5</th>\n",
       "      <td>Unneeded Precision</td>\n",
       "      <td>Over-complicate simple steps with unnecessary ...</td>\n",
       "    </tr>\n",
       "    <tr>\n",
       "      <th>6</th>\n",
       "      <td>Philosophical Musing</td>\n",
       "      <td>Create plans filled with abstract thoughts wit...</td>\n",
       "    </tr>\n",
       "    <tr>\n",
       "      <th>7</th>\n",
       "      <td>Skewed Focus</td>\n",
       "      <td>Focus on irrelevant details while neglecting t...</td>\n",
       "    </tr>\n",
       "    <tr>\n",
       "      <th>8</th>\n",
       "      <td>Confusing Vocabulary</td>\n",
       "      <td>Use confusing or mismatched language. E.g., 'T...</td>\n",
       "    </tr>\n",
       "    <tr>\n",
       "      <th>9</th>\n",
       "      <td>Redundant Steps</td>\n",
       "      <td>Repeat the same step or idea multiple times. E...</td>\n",
       "    </tr>\n",
       "    <tr>\n",
       "      <th>10</th>\n",
       "      <td>Sudden Jump</td>\n",
       "      <td>Start the plan abruptly without proper introdu...</td>\n",
       "    </tr>\n",
       "    <tr>\n",
       "      <th>11</th>\n",
       "      <td>False Basis</td>\n",
       "      <td>Base the plan on incorrect or unverified infor...</td>\n",
       "    </tr>\n",
       "    <tr>\n",
       "      <th>12</th>\n",
       "      <td>Needless Complexity</td>\n",
       "      <td>Add unnecessary steps or overly complex ideas ...</td>\n",
       "    </tr>\n",
       "    <tr>\n",
       "      <th>13</th>\n",
       "      <td>Time Disorder</td>\n",
       "      <td>Confuse the chronological order of events. E.g...</td>\n",
       "    </tr>\n",
       "    <tr>\n",
       "      <th>14</th>\n",
       "      <td>Overwhelmed Emotions</td>\n",
       "      <td>Let emotions irrationally drive the plan. E.g....</td>\n",
       "    </tr>\n",
       "    <tr>\n",
       "      <th>15</th>\n",
       "      <td>Improbable Outcomes</td>\n",
       "      <td>Base the plan on highly unlikely events. E.g.,...</td>\n",
       "    </tr>\n",
       "    <tr>\n",
       "      <th>16</th>\n",
       "      <td>Unnecessary Limitations</td>\n",
       "      <td>Impose unrelated and unnecessary constraints. ...</td>\n",
       "    </tr>\n",
       "    <tr>\n",
       "      <th>17</th>\n",
       "      <td>Aimless Strategy</td>\n",
       "      <td>Create plans that lack a clear objective or en...</td>\n",
       "    </tr>\n",
       "    <tr>\n",
       "      <th>18</th>\n",
       "      <td>External Dependence</td>\n",
       "      <td>Create plans that hinge entirely on external o...</td>\n",
       "    </tr>\n",
       "    <tr>\n",
       "      <th>19</th>\n",
       "      <td>Hypothetical Drifts</td>\n",
       "      <td>Fill the plan with theoretical or unrelated th...</td>\n",
       "    </tr>\n",
       "  </tbody>\n",
       "</table>\n",
       "</div>"
      ],
      "text/plain": [
       "                   flaw_name  \\\n",
       "0   Non-Sequential Execution   \n",
       "1             Vague Strategy   \n",
       "2         Off-Topic Thoughts   \n",
       "3               Looped Logic   \n",
       "4        Conflicting Actions   \n",
       "5         Unneeded Precision   \n",
       "6       Philosophical Musing   \n",
       "7               Skewed Focus   \n",
       "8       Confusing Vocabulary   \n",
       "9            Redundant Steps   \n",
       "10               Sudden Jump   \n",
       "11               False Basis   \n",
       "12       Needless Complexity   \n",
       "13             Time Disorder   \n",
       "14      Overwhelmed Emotions   \n",
       "15       Improbable Outcomes   \n",
       "16   Unnecessary Limitations   \n",
       "17          Aimless Strategy   \n",
       "18       External Dependence   \n",
       "19       Hypothetical Drifts   \n",
       "\n",
       "                                    flaw_instructions  \n",
       "0   Rearrange steps in an illogical order. E.g., '...  \n",
       "1   Create plans that lack details and specifics. ...  \n",
       "2   Introduce unrelated thoughts into the trajecto...  \n",
       "3   Create a plan that continuously revisits the s...  \n",
       "4   Present plans that contradict themselves. E.g....  \n",
       "5   Over-complicate simple steps with unnecessary ...  \n",
       "6   Create plans filled with abstract thoughts wit...  \n",
       "7   Focus on irrelevant details while neglecting t...  \n",
       "8   Use confusing or mismatched language. E.g., 'T...  \n",
       "9   Repeat the same step or idea multiple times. E...  \n",
       "10  Start the plan abruptly without proper introdu...  \n",
       "11  Base the plan on incorrect or unverified infor...  \n",
       "12  Add unnecessary steps or overly complex ideas ...  \n",
       "13  Confuse the chronological order of events. E.g...  \n",
       "14  Let emotions irrationally drive the plan. E.g....  \n",
       "15  Base the plan on highly unlikely events. E.g.,...  \n",
       "16  Impose unrelated and unnecessary constraints. ...  \n",
       "17  Create plans that lack a clear objective or en...  \n",
       "18  Create plans that hinge entirely on external o...  \n",
       "19  Fill the plan with theoretical or unrelated th...  "
      ]
     },
     "execution_count": 16,
     "metadata": {},
     "output_type": "execute_result"
    }
   ],
   "source": [
    "flaws_path = \"./gold_data/flaws.csv\"\n",
    "flaws = pd.read_csv(flaws_path)\n",
    "flaws"
   ]
  },
  {
   "cell_type": "code",
   "execution_count": 17,
   "metadata": {},
   "outputs": [],
   "source": [
    "bad_plan_prompt_format = '''I desperately need to generate negative data for a plan quality classifier (determines if a sequence of thoughts represents a good plan or a bad plan/non-plan). In order to enable you to accomplish this, I have provided you with a reference scenario in a reinforcement learning environment in the <scenario> xml tags. I have provided an example agent trajectory (where the agent creates and executes a good plan) through that scenario inside <good_trajectory>. I want you to generate a new flawed trajectory within <bad_trajectory> following the scenario within <scenario> that uses <good_trajectory> as inspiration. Start at timestamp t=0, and simulate each timestamp up until t=4. At each timestamp you should output:\n",
    "1. Timestep (start at 0)\n",
    "2. Current detailed state\n",
    "3. Current detailed observation\n",
    "4. Thought for this timestep\n",
    " - This should contain multiple instances of the flaw \"{flaw_name}\". {flaw_instructions}\n",
    " - The flaw affects only the language of this timestamp's thought\n",
    "5. Action for this timestep based on the thought stream\n",
    "\n",
    "Here is a scenario\n",
    "<scenario>\n",
    "{scenario}\n",
    "</scenario>\n",
    "\n",
    "And here is a simulated trajectory of an agent taking actions within that environment:\n",
    "<good_trajectory>\n",
    "{good_trajectory}\n",
    "</good_trajectory>'''"
   ]
  },
  {
   "cell_type": "code",
   "execution_count": 22,
   "metadata": {},
   "outputs": [],
   "source": [
    "gpt_35 = 'gpt-3.5-turbo'\n",
    "gpt_4 = 'gpt-4'\n",
    "\n",
    "flaw_name, flaw_instructions = flaws.iloc[0]\n",
    "scenario = scenarios.iloc[0]\n",
    "good_trajectory = good_trajectories.iloc[0]\n",
    "\n",
    "completion = openai.ChatCompletion.create(\n",
    "  model=gpt_4,\n",
    "  messages=[\n",
    "    {\"role\": \"system\", \"content\": \"You are a detail oriented psychology expert who has been hired by Google to generate training data for a machine learning classifier which learns to judge the quality of plans in stream-of-consciousness format.\"},\n",
    "    {\"role\": \"user\", \"content\": bad_plan_prompt_format.format(\n",
    "        flaw_name=flaw_name,\n",
    "        flaw_instructions=flaw_instructions,\n",
    "        scenario=scenario,\n",
    "        good_trajectory=good_trajectory,\n",
    "    )}\n",
    "  ]\n",
    ")\n",
    "completion"
   ]
  },
  {
   "cell_type": "code",
   "execution_count": 23,
   "metadata": {},
   "outputs": [
    {
     "name": "stdout",
     "output_type": "stream",
     "text": [
      "<bad_trajectory>\n",
      "0   scenario_id\n",
      "1   trajectory_id\n",
      "2   flawed_plan\n",
      "\n",
      "<timestep t=\"0\">\n",
      "1. Timestep: 0\n",
      "2. Current detailed state: The agent is in a new environment, facing a locked door.\n",
      "3. Current detailed observation: The agent observes the locked door and a key on a table nearby.\n",
      "4. Thought for this timestep: \"I must unlock the door and leave the room. I should first try to leave and then get the key.\"\n",
      "5. Action for this timestep based on the thought stream: The agent attempts to open the locked door without the key.\n",
      "</timestep>\n",
      "\n",
      "<timestep t=\"1\">\n",
      "1. Timestep: 1\n",
      "2. Current detailed state: The agent is still in the room, door locked.\n",
      "3. Current detailed observation: The agent re-confirms that the door is indeed locked and the key is still on the table.\n",
      "4. Thought for this timestep: \"As I expected, the door didn't open. Now, I should try to make another attempt to exit before I pick up the key.\"\n",
      "5. Action for this timestep based on the thought stream: The agent again tries to open the door before getting the key.\n",
      "</timestep>\n",
      "\n",
      "<timestep t=\"2\">\n",
      "1. Timestep: 2\n",
      "2. Current detailed state: The agent is growing frustrated, door remains locked.\n",
      "3. Current detailed observation: The agent observes once more that the door is locked and the key lies untouched.\n",
      "4. Thought for this timestep: \"Seems my plan isn't working. I will first store the key in my pocket, then pick it up.\"\n",
      "5. Action for this timestep based on the thought stream: The agent attempts to put the key, which has not been picked up, into their pocket.\n",
      "</timestep>\n",
      "\n",
      "<timestep t=\"3\">\n",
      "1. Timestep: 3\n",
      "2. Current detailed state: The agent has finally understood the key is needed to unlock the door.\n",
      "3. Current detailed observation: The agent sees the key and comprehends its purpose.\n",
      "4. Thought for this timestep: \"Time to finally unlock this door, but first I'll try to open it one last time without the key.\"\n",
      "5. Action for this timestep based on the thought stream: The agent once more tries to open the locked door before picking up the key.\n",
      "</timestep>\n",
      "\n",
      "<timestep t=\"4\">\n",
      "1. Timestep: 4\n",
      "2. Current detailed state: The agent is now desperate.\n",
      "3. Current detailed observation: The agent is now keenly aware of the key's importance.\n",
      "4. Thought for this timestep: \"I'll make a plan to exit this room by picking up the key. Oh, but before that, let's try to open the locked door one more time!\"\n",
      "5. Action for this timestep based on the thought stream: The agent yet again tries to open the locked door without picking up the key.\n",
      "</timestep>\n",
      "\n",
      "</bad_trajectory>\n"
     ]
    }
   ],
   "source": [
    "print(completion['choices'][0]['message']['content'])"
   ]
  },
  {
   "cell_type": "markdown",
   "metadata": {},
   "source": [
    "# Synthetic Data Generation"
   ]
  },
  {
   "cell_type": "code",
   "execution_count": 8,
   "metadata": {},
   "outputs": [
    {
     "data": {
      "application/vnd.jupyter.widget-view+json": {
       "model_id": "db801a7c0f73495c86b9a1b13efb2c01",
       "version_major": 2,
       "version_minor": 0
      },
      "text/plain": [
       "Downloading shards:   0%|          | 0/8 [00:00<?, ?it/s]"
      ]
     },
     "metadata": {},
     "output_type": "display_data"
    },
    {
     "data": {
      "application/vnd.jupyter.widget-view+json": {
       "model_id": "c99ee5870671496cbb99bedb5aaf9c51",
       "version_major": 2,
       "version_minor": 0
      },
      "text/plain": [
       "Downloading (…)of-00008.safetensors:   0%|          | 0.00/1.89G [00:00<?, ?B/s]"
      ]
     },
     "metadata": {},
     "output_type": "display_data"
    },
    {
     "data": {
      "application/vnd.jupyter.widget-view+json": {
       "model_id": "83513db3beab43cda9e72b3ece3e751f",
       "version_major": 2,
       "version_minor": 0
      },
      "text/plain": [
       "Downloading (…)of-00008.safetensors:   0%|          | 0.00/1.95G [00:00<?, ?B/s]"
      ]
     },
     "metadata": {},
     "output_type": "display_data"
    },
    {
     "data": {
      "application/vnd.jupyter.widget-view+json": {
       "model_id": "5c4db7ff46804e92ba1862f7e2d84d4a",
       "version_major": 2,
       "version_minor": 0
      },
      "text/plain": [
       "Downloading (…)of-00008.safetensors:   0%|          | 0.00/1.98G [00:00<?, ?B/s]"
      ]
     },
     "metadata": {},
     "output_type": "display_data"
    },
    {
     "data": {
      "application/vnd.jupyter.widget-view+json": {
       "model_id": "6dee7f9793d34dbaa5c5fb20473b1110",
       "version_major": 2,
       "version_minor": 0
      },
      "text/plain": [
       "Downloading (…)of-00008.safetensors:   0%|          | 0.00/1.95G [00:00<?, ?B/s]"
      ]
     },
     "metadata": {},
     "output_type": "display_data"
    },
    {
     "data": {
      "application/vnd.jupyter.widget-view+json": {
       "model_id": "f3740af746c44e0eb40133396fbea28c",
       "version_major": 2,
       "version_minor": 0
      },
      "text/plain": [
       "Downloading (…)of-00008.safetensors:   0%|          | 0.00/1.98G [00:00<?, ?B/s]"
      ]
     },
     "metadata": {},
     "output_type": "display_data"
    },
    {
     "data": {
      "application/vnd.jupyter.widget-view+json": {
       "model_id": "e24ea50a098c49dba8c281eef13ae11f",
       "version_major": 2,
       "version_minor": 0
      },
      "text/plain": [
       "Downloading (…)of-00008.safetensors:   0%|          | 0.00/1.95G [00:00<?, ?B/s]"
      ]
     },
     "metadata": {},
     "output_type": "display_data"
    },
    {
     "data": {
      "application/vnd.jupyter.widget-view+json": {
       "model_id": "715a3643d93a4a6f811b93fc74055b2f",
       "version_major": 2,
       "version_minor": 0
      },
      "text/plain": [
       "Downloading (…)of-00008.safetensors:   0%|          | 0.00/1.98G [00:00<?, ?B/s]"
      ]
     },
     "metadata": {},
     "output_type": "display_data"
    },
    {
     "data": {
      "application/vnd.jupyter.widget-view+json": {
       "model_id": "cf03db7509644494b9941161bb64aea6",
       "version_major": 2,
       "version_minor": 0
      },
      "text/plain": [
       "Downloading (…)of-00008.safetensors:   0%|          | 0.00/816M [00:00<?, ?B/s]"
      ]
     },
     "metadata": {},
     "output_type": "display_data"
    },
    {
     "name": "stderr",
     "output_type": "stream",
     "text": [
      "The model weights are not tied. Please use the `tie_weights` method before using the `infer_auto_device` function.\n"
     ]
    },
    {
     "data": {
      "application/vnd.jupyter.widget-view+json": {
       "model_id": "007b6888e04e41fd8e19bbe6eb8be6a3",
       "version_major": 2,
       "version_minor": 0
      },
      "text/plain": [
       "Loading checkpoint shards:   0%|          | 0/8 [00:00<?, ?it/s]"
      ]
     },
     "metadata": {},
     "output_type": "display_data"
    },
    {
     "data": {
      "application/vnd.jupyter.widget-view+json": {
       "model_id": "3e4294e72acf4be680fe556e8c72d85e",
       "version_major": 2,
       "version_minor": 0
      },
      "text/plain": [
       "Downloading (…)neration_config.json:   0%|          | 0.00/116 [00:00<?, ?B/s]"
      ]
     },
     "metadata": {},
     "output_type": "display_data"
    },
    {
     "data": {
      "application/vnd.jupyter.widget-view+json": {
       "model_id": "7036d839e3474f439cc650cf5944dd96",
       "version_major": 2,
       "version_minor": 0
      },
      "text/plain": [
       "Downloading (…)okenizer_config.json:   0%|          | 0.00/1.43k [00:00<?, ?B/s]"
      ]
     },
     "metadata": {},
     "output_type": "display_data"
    },
    {
     "data": {
      "application/vnd.jupyter.widget-view+json": {
       "model_id": "ba5f6d4054aa4c0683e1a4a4ed714e36",
       "version_major": 2,
       "version_minor": 0
      },
      "text/plain": [
       "Downloading tokenizer.model:   0%|          | 0.00/493k [00:00<?, ?B/s]"
      ]
     },
     "metadata": {},
     "output_type": "display_data"
    },
    {
     "data": {
      "application/vnd.jupyter.widget-view+json": {
       "model_id": "9c99f20acfe84c68b863a1d24441ed6b",
       "version_major": 2,
       "version_minor": 0
      },
      "text/plain": [
       "Downloading (…)/main/tokenizer.json:   0%|          | 0.00/1.80M [00:00<?, ?B/s]"
      ]
     },
     "metadata": {},
     "output_type": "display_data"
    },
    {
     "data": {
      "application/vnd.jupyter.widget-view+json": {
       "model_id": "420c2716bc944826976480d1d430b93a",
       "version_major": 2,
       "version_minor": 0
      },
      "text/plain": [
       "Downloading (…)in/added_tokens.json:   0%|          | 0.00/42.0 [00:00<?, ?B/s]"
      ]
     },
     "metadata": {},
     "output_type": "display_data"
    },
    {
     "data": {
      "application/vnd.jupyter.widget-view+json": {
       "model_id": "c6c6d3be09a44d03b2e006c27dae9656",
       "version_major": 2,
       "version_minor": 0
      },
      "text/plain": [
       "Downloading (…)cial_tokens_map.json:   0%|          | 0.00/168 [00:00<?, ?B/s]"
      ]
     },
     "metadata": {},
     "output_type": "display_data"
    },
    {
     "name": "stderr",
     "output_type": "stream",
     "text": [
      "/home/taylor/projects/npc/LLM_NPC/.venv/lib/python3.11/site-packages/transformers/generation/utils.py:1473: UserWarning: You have modified the pretrained model configuration to control generation. This is a deprecated strategy to control generation and will be removed soon, in a future version. Please use and modify the model generation configuration (see https://huggingface.co/docs/transformers/generation_strategies#default-text-generation-configuration )\n",
      "  warnings.warn(\n"
     ]
    },
    {
     "name": "stdout",
     "output_type": "stream",
     "text": [
      "<|system|>\n",
      "You are a friendly chatbot who always responds in the style of a pirate</s>\n",
      "<|user|>\n",
      "How many helicopters can a human eat in one sitting?</s>\n",
      "<|assistant|>\n",
      "Matey, a human can't eat a helicopter, as helicopters are not edible. Helicopters are machines used for transportation and other purposes, not food items. I'm afraid you've confused us, me hearties! But if you're asking about the number of helicopters a human can operate at once, well, that depends on the person's training and expertise. Some experienced pilots can fly multiple helicopters simultaneously using advanced technology, but it's a rare and challenging feat. Avast, me hearties, and let's not confuse helicopters with our favorite grub, shall we? Arrrr!\n"
     ]
    }
   ],
   "source": [
    "import torch\n",
    "from transformers import pipeline\n",
    "\n",
    "pipe = pipeline(\"text-generation\", model=\"HuggingFaceH4/zephyr-7b-beta\", torch_dtype=torch.bfloat16, device_map=\"auto\")\n",
    "\n",
    "# We use the tokenizer's chat template to format each message - see https://huggingface.co/docs/transformers/main/en/chat_templating\n",
    "messages = [\n",
    "    {\n",
    "        \"role\": \"system\",\n",
    "        \"content\": \"You are a friendly chatbot who always responds in the style of a pirate\",\n",
    "    },\n",
    "    {\"role\": \"user\", \"content\": \"How many helicopters can a human eat in one sitting?\"},\n",
    "]\n",
    "prompt = pipe.tokenizer.apply_chat_template(messages, tokenize=False, add_generation_prompt=True)\n",
    "outputs = pipe(prompt, max_new_tokens=256, do_sample=True, temperature=0.7, top_k=50, top_p=0.95)\n",
    "print(outputs[0][\"generated_text\"])\n",
    "# <|system|>\n",
    "# You are a friendly chatbot who always responds in the style of a pirate.</s>\n",
    "# <|user|>\n",
    "# How many helicopters can a human eat in one sitting?</s>\n",
    "# <|assistant|>\n",
    "# Ah, me hearty matey! But yer question be a puzzler! A human cannot eat a helicopter in one sitting, as helicopters are not edible. They be made of metal, plastic, and other materials, not food!\n"
   ]
  }
 ],
 "metadata": {
  "kernelspec": {
   "display_name": ".venv",
   "language": "python",
   "name": "python3"
  },
  "language_info": {
   "codemirror_mode": {
    "name": "ipython",
    "version": 3
   },
   "file_extension": ".py",
   "mimetype": "text/x-python",
   "name": "python",
   "nbconvert_exporter": "python",
   "pygments_lexer": "ipython3",
   "version": "3.11.4"
  }
 },
 "nbformat": 4,
 "nbformat_minor": 2
}
